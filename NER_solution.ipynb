{
  "nbformat": 4,
  "nbformat_minor": 0,
  "metadata": {
    "kernelspec": {
      "display_name": "Python 3",
      "language": "python",
      "name": "python3"
    },
    "language_info": {
      "codemirror_mode": {
        "name": "ipython",
        "version": 3
      },
      "file_extension": ".py",
      "mimetype": "text/x-python",
      "name": "python",
      "nbconvert_exporter": "python",
      "pygments_lexer": "ipython3",
      "version": "3.7.4"
    },
    "colab": {
      "name": "NER solution.ipynb",
      "provenance": [],
      "collapsed_sections": []
    }
  },
  "cells": [
    {
      "cell_type": "markdown",
      "metadata": {
        "id": "Zzu4IpMetAbN",
        "colab_type": "text"
      },
      "source": [
        "## Load Packages"
      ]
    },
    {
      "cell_type": "code",
      "metadata": {
        "id": "GR7BednrtAbQ",
        "colab_type": "code",
        "colab": {}
      },
      "source": [
        "from __future__ import unicode_literals, print_function\n",
        "import plac\n",
        "import random\n",
        "from pathlib import Path\n",
        "import spacy\n",
        "from tqdm import tqdm "
      ],
      "execution_count": 4,
      "outputs": []
    },
    {
      "cell_type": "code",
      "metadata": {
        "id": "AB30FFMKtAbh",
        "colab_type": "code",
        "colab": {}
      },
      "source": [
        "nlp1 = spacy.load('en')"
      ],
      "execution_count": 6,
      "outputs": []
    },
    {
      "cell_type": "markdown",
      "metadata": {
        "id": "-ItVIMRGtAbx",
        "colab_type": "text"
      },
      "source": [
        "## Working of NER"
      ]
    },
    {
      "cell_type": "code",
      "metadata": {
        "id": "pKhAFTXJtAb0",
        "colab_type": "code",
        "colab": {}
      },
      "source": [
        "docx1 = nlp1(u\"Who is Rakshmitha?\")"
      ],
      "execution_count": 7,
      "outputs": []
    },
    {
      "cell_type": "code",
      "metadata": {
        "id": "qtj6VqentAcF",
        "colab_type": "code",
        "colab": {
          "base_uri": "https://localhost:8080/",
          "height": 34
        },
        "outputId": "ed7200b1-597b-45a9-edd5-b92f93fa27e3"
      },
      "source": [
        "for token in docx1.ents:\n",
        "    print(token.text,token.start_char, token.end_char,token.label_)"
      ],
      "execution_count": 8,
      "outputs": [
        {
          "output_type": "stream",
          "text": [
            "Rakshmitha 7 17 PERSON\n"
          ],
          "name": "stdout"
        }
      ]
    },
    {
      "cell_type": "code",
      "metadata": {
        "id": "d9UPVcmDtAcT",
        "colab_type": "code",
        "colab": {}
      },
      "source": [
        "docx2 = nlp1(u\"Who is Rajinikanth?\")"
      ],
      "execution_count": 9,
      "outputs": []
    },
    {
      "cell_type": "code",
      "metadata": {
        "id": "cBG82l56tAci",
        "colab_type": "code",
        "colab": {
          "base_uri": "https://localhost:8080/",
          "height": 34
        },
        "outputId": "c28b1f82-7878-4644-adf8-1d22b964f530"
      },
      "source": [
        "for token in docx2.ents:\n",
        "    print(token.text,token.start_char, token.end_char,token.label_)"
      ],
      "execution_count": 10,
      "outputs": [
        {
          "output_type": "stream",
          "text": [
            "Rajinikanth 7 18 ORG\n"
          ],
          "name": "stdout"
        }
      ]
    },
    {
      "cell_type": "markdown",
      "metadata": {
        "id": "VK2xja7ltAcu",
        "colab_type": "text"
      },
      "source": [
        "## Train Data"
      ]
    },
    {
      "cell_type": "code",
      "metadata": {
        "id": "8hez7l0dtAcw",
        "colab_type": "code",
        "colab": {}
      },
      "source": [
        "TRAIN_DATA = [\n",
        "    ('Who is Rakshmitha?', {\n",
        "        'entities': [(7, 15, 'PERSON')]\n",
        "    }),\n",
        "     ('Who is Rajnikanth?', {\n",
        "        'entities': [(7, 19, 'PERSON')]\n",
        "    }),\n",
        "    ('I like London and Berlin.', {\n",
        "        'entities': [(7, 13, 'LOC'), (18, 24, 'LOC')]\n",
        "    })\n",
        "]"
      ],
      "execution_count": 11,
      "outputs": []
    },
    {
      "cell_type": "markdown",
      "metadata": {
        "id": "HNzZFR_ntAc4",
        "colab_type": "text"
      },
      "source": [
        "## Define our variables"
      ]
    },
    {
      "cell_type": "code",
      "metadata": {
        "id": "EcUoYLrhtAc8",
        "colab_type": "code",
        "colab": {}
      },
      "source": [
        "model = None\n",
        "output_dir=Path(\"C:\\\\Users\\\\raksh\\\\Documents\\\\ner\")\n",
        "n_iter=100"
      ],
      "execution_count": 12,
      "outputs": []
    },
    {
      "cell_type": "markdown",
      "metadata": {
        "id": "cNDPFurxtAdF",
        "colab_type": "text"
      },
      "source": [
        "## Load the model"
      ]
    },
    {
      "cell_type": "code",
      "metadata": {
        "id": "D4zj0u7RtAdG",
        "colab_type": "code",
        "colab": {
          "base_uri": "https://localhost:8080/",
          "height": 34
        },
        "outputId": "819cd988-3178-4251-9e20-440d46bec64e"
      },
      "source": [
        "if model is not None:\n",
        "    nlp = spacy.load(model)  \n",
        "    print(\"Loaded model '%s'\" % model)\n",
        "else:\n",
        "    nlp = spacy.blank('en')  \n",
        "    print(\"Created blank 'en' model\")"
      ],
      "execution_count": 13,
      "outputs": [
        {
          "output_type": "stream",
          "text": [
            "Created blank 'en' model\n"
          ],
          "name": "stdout"
        }
      ]
    },
    {
      "cell_type": "markdown",
      "metadata": {
        "id": "X1pu9-tctAdS",
        "colab_type": "text"
      },
      "source": [
        "## Set up the pipeline"
      ]
    },
    {
      "cell_type": "code",
      "metadata": {
        "id": "fbHyGITvtAdV",
        "colab_type": "code",
        "colab": {}
      },
      "source": [
        "if 'ner' not in nlp.pipe_names:\n",
        "    ner = nlp.create_pipe('ner')\n",
        "    nlp.add_pipe(ner, last=True)\n",
        "else:\n",
        "    ner = nlp.get_pipe('ner')"
      ],
      "execution_count": 14,
      "outputs": []
    },
    {
      "cell_type": "markdown",
      "metadata": {
        "id": "DQuZUQ7ZtAdg",
        "colab_type": "text"
      },
      "source": [
        "## Train the Recognizer"
      ]
    },
    {
      "cell_type": "code",
      "metadata": {
        "id": "DQ1oKgtStAdj",
        "colab_type": "code",
        "colab": {
          "base_uri": "https://localhost:8080/",
          "height": 1000
        },
        "outputId": "99e43650-3979-483f-9f8e-f5a83da5f85a"
      },
      "source": [
        "for _, annotations in TRAIN_DATA:\n",
        "    for ent in annotations.get('entities'):\n",
        "        ner.add_label(ent[2])\n",
        "\n",
        "other_pipes = [pipe for pipe in nlp.pipe_names if pipe != 'ner']\n",
        "with nlp.disable_pipes(*other_pipes):  # only train NER\n",
        "    optimizer = nlp.begin_training()\n",
        "    for itn in range(n_iter):\n",
        "        random.shuffle(TRAIN_DATA)\n",
        "        losses = {}\n",
        "        for text, annotations in tqdm(TRAIN_DATA):\n",
        "            nlp.update(\n",
        "                [text],  \n",
        "                [annotations],  \n",
        "                drop=0.5,  \n",
        "                sgd=optimizer,\n",
        "                losses=losses)\n",
        "        print(losses)"
      ],
      "execution_count": 15,
      "outputs": [
        {
          "output_type": "stream",
          "text": [
            "100%|██████████| 3/3 [00:00<00:00, 26.17it/s]\n",
            "100%|██████████| 3/3 [00:00<00:00, 36.46it/s]\n",
            "100%|██████████| 3/3 [00:00<00:00, 36.41it/s]\n",
            "  0%|          | 0/3 [00:00<?, ?it/s]"
          ],
          "name": "stderr"
        },
        {
          "output_type": "stream",
          "text": [
            "{'ner': 10.14213179051876}\n",
            "{'ner': 9.497877180576324}\n",
            "{'ner': 7.804744482040405}\n"
          ],
          "name": "stdout"
        },
        {
          "output_type": "stream",
          "text": [
            "100%|██████████| 3/3 [00:00<00:00, 35.97it/s]\n",
            "100%|██████████| 3/3 [00:00<00:00, 36.58it/s]\n",
            "100%|██████████| 3/3 [00:00<00:00, 38.81it/s]\n",
            "  0%|          | 0/3 [00:00<?, ?it/s]"
          ],
          "name": "stderr"
        },
        {
          "output_type": "stream",
          "text": [
            "{'ner': 6.053979707881808}\n",
            "{'ner': 5.12600477039814}\n",
            "{'ner': 4.172462904360145}\n"
          ],
          "name": "stdout"
        },
        {
          "output_type": "stream",
          "text": [
            "100%|██████████| 3/3 [00:00<00:00, 36.40it/s]\n",
            "100%|██████████| 3/3 [00:00<00:00, 35.42it/s]\n",
            "100%|██████████| 3/3 [00:00<00:00, 37.57it/s]\n",
            "  0%|          | 0/3 [00:00<?, ?it/s]"
          ],
          "name": "stderr"
        },
        {
          "output_type": "stream",
          "text": [
            "{'ner': 4.1427093129605055}\n",
            "{'ner': 3.386671197376927}\n",
            "{'ner': 3.3671334834657216}\n"
          ],
          "name": "stdout"
        },
        {
          "output_type": "stream",
          "text": [
            "100%|██████████| 3/3 [00:00<00:00, 36.45it/s]\n",
            "100%|██████████| 3/3 [00:00<00:00, 36.16it/s]\n",
            "100%|██████████| 3/3 [00:00<00:00, 31.00it/s]\n",
            "  0%|          | 0/3 [00:00<?, ?it/s]"
          ],
          "name": "stderr"
        },
        {
          "output_type": "stream",
          "text": [
            "{'ner': 3.6120547978935282}\n",
            "{'ner': 3.9423165889285228}\n",
            "{'ner': 3.7018950657569496}\n"
          ],
          "name": "stdout"
        },
        {
          "output_type": "stream",
          "text": [
            "100%|██████████| 3/3 [00:00<00:00, 33.30it/s]\n",
            "100%|██████████| 3/3 [00:00<00:00, 36.47it/s]\n",
            "100%|██████████| 3/3 [00:00<00:00, 38.26it/s]\n",
            "  0%|          | 0/3 [00:00<?, ?it/s]"
          ],
          "name": "stderr"
        },
        {
          "output_type": "stream",
          "text": [
            "{'ner': 3.451955220411606}\n",
            "{'ner': 2.370321923691745}\n",
            "{'ner': 2.8217329911670808}\n"
          ],
          "name": "stdout"
        },
        {
          "output_type": "stream",
          "text": [
            "100%|██████████| 3/3 [00:00<00:00, 34.82it/s]\n",
            "100%|██████████| 3/3 [00:00<00:00, 34.34it/s]\n",
            "100%|██████████| 3/3 [00:00<00:00, 36.68it/s]\n",
            "  0%|          | 0/3 [00:00<?, ?it/s]"
          ],
          "name": "stderr"
        },
        {
          "output_type": "stream",
          "text": [
            "{'ner': 2.9808369937320456}\n",
            "{'ner': 2.0244186372233073}\n",
            "{'ner': 2.4139918072662896}\n"
          ],
          "name": "stdout"
        },
        {
          "output_type": "stream",
          "text": [
            "100%|██████████| 3/3 [00:00<00:00, 35.03it/s]\n",
            "100%|██████████| 3/3 [00:00<00:00, 35.35it/s]\n",
            "100%|██████████| 3/3 [00:00<00:00, 35.07it/s]\n",
            "  0%|          | 0/3 [00:00<?, ?it/s]"
          ],
          "name": "stderr"
        },
        {
          "output_type": "stream",
          "text": [
            "{'ner': 2.922444817817084}\n",
            "{'ner': 1.79516746071258}\n",
            "{'ner': 2.706106535798125}\n"
          ],
          "name": "stdout"
        },
        {
          "output_type": "stream",
          "text": [
            "100%|██████████| 3/3 [00:00<00:00, 35.35it/s]\n",
            "100%|██████████| 3/3 [00:00<00:00, 36.06it/s]\n",
            "100%|██████████| 3/3 [00:00<00:00, 35.40it/s]\n",
            "  0%|          | 0/3 [00:00<?, ?it/s]"
          ],
          "name": "stderr"
        },
        {
          "output_type": "stream",
          "text": [
            "{'ner': 2.210332112019598}\n",
            "{'ner': 1.1440190909415493}\n",
            "{'ner': 0.7827467715011796}\n"
          ],
          "name": "stdout"
        },
        {
          "output_type": "stream",
          "text": [
            "100%|██████████| 3/3 [00:00<00:00, 33.53it/s]\n",
            "100%|██████████| 3/3 [00:00<00:00, 36.19it/s]\n",
            "100%|██████████| 3/3 [00:00<00:00, 36.76it/s]\n",
            "  0%|          | 0/3 [00:00<?, ?it/s]"
          ],
          "name": "stderr"
        },
        {
          "output_type": "stream",
          "text": [
            "{'ner': 0.49364996448897}\n",
            "{'ner': 0.6022216455186762}\n",
            "{'ner': 3.6576377255895722}\n"
          ],
          "name": "stdout"
        },
        {
          "output_type": "stream",
          "text": [
            "100%|██████████| 3/3 [00:00<00:00, 34.59it/s]\n",
            "100%|██████████| 3/3 [00:00<00:00, 35.47it/s]\n",
            "100%|██████████| 3/3 [00:00<00:00, 34.69it/s]\n",
            "  0%|          | 0/3 [00:00<?, ?it/s]"
          ],
          "name": "stderr"
        },
        {
          "output_type": "stream",
          "text": [
            "{'ner': 0.21988466736041443}\n",
            "{'ner': 0.08440591531707797}\n",
            "{'ner': 1.0148854647144467}\n"
          ],
          "name": "stdout"
        },
        {
          "output_type": "stream",
          "text": [
            "100%|██████████| 3/3 [00:00<00:00, 34.51it/s]\n",
            "100%|██████████| 3/3 [00:00<00:00, 36.44it/s]\n",
            "100%|██████████| 3/3 [00:00<00:00, 36.34it/s]\n",
            "  0%|          | 0/3 [00:00<?, ?it/s]"
          ],
          "name": "stderr"
        },
        {
          "output_type": "stream",
          "text": [
            "{'ner': 0.23102566462960394}\n",
            "{'ner': 0.12342620222605795}\n",
            "{'ner': 0.8638909000757375}\n"
          ],
          "name": "stdout"
        },
        {
          "output_type": "stream",
          "text": [
            "100%|██████████| 3/3 [00:00<00:00, 34.06it/s]\n",
            "100%|██████████| 3/3 [00:00<00:00, 34.74it/s]\n",
            "100%|██████████| 3/3 [00:00<00:00, 36.12it/s]\n",
            "  0%|          | 0/3 [00:00<?, ?it/s]"
          ],
          "name": "stderr"
        },
        {
          "output_type": "stream",
          "text": [
            "{'ner': 0.00970919588207899}\n",
            "{'ner': 0.0017846464690496136}\n",
            "{'ner': 0.01109981507475518}\n"
          ],
          "name": "stdout"
        },
        {
          "output_type": "stream",
          "text": [
            "100%|██████████| 3/3 [00:00<00:00, 34.47it/s]\n",
            "100%|██████████| 3/3 [00:00<00:00, 33.87it/s]\n",
            "100%|██████████| 3/3 [00:00<00:00, 33.22it/s]\n",
            "  0%|          | 0/3 [00:00<?, ?it/s]"
          ],
          "name": "stderr"
        },
        {
          "output_type": "stream",
          "text": [
            "{'ner': 0.02483572233721505}\n",
            "{'ner': 0.0006503501651453534}\n",
            "{'ner': 2.8185317859143254e-07}\n"
          ],
          "name": "stdout"
        },
        {
          "output_type": "stream",
          "text": [
            "100%|██████████| 3/3 [00:00<00:00, 31.79it/s]\n",
            "100%|██████████| 3/3 [00:00<00:00, 34.58it/s]\n",
            "100%|██████████| 3/3 [00:00<00:00, 33.35it/s]\n",
            "  0%|          | 0/3 [00:00<?, ?it/s]"
          ],
          "name": "stderr"
        },
        {
          "output_type": "stream",
          "text": [
            "{'ner': 0.00018591493454830874}\n",
            "{'ner': 6.75457447096218e-05}\n",
            "{'ner': 0.13535210047250804}\n"
          ],
          "name": "stdout"
        },
        {
          "output_type": "stream",
          "text": [
            "100%|██████████| 3/3 [00:00<00:00, 33.21it/s]\n",
            "100%|██████████| 3/3 [00:00<00:00, 35.56it/s]\n",
            "100%|██████████| 3/3 [00:00<00:00, 36.52it/s]\n",
            "  0%|          | 0/3 [00:00<?, ?it/s]"
          ],
          "name": "stderr"
        },
        {
          "output_type": "stream",
          "text": [
            "{'ner': 1.711327687123691}\n",
            "{'ner': 9.74923960838884e-08}\n",
            "{'ner': 1.1549613460983596e-08}\n"
          ],
          "name": "stdout"
        },
        {
          "output_type": "stream",
          "text": [
            "100%|██████████| 3/3 [00:00<00:00, 32.58it/s]\n",
            "100%|██████████| 3/3 [00:00<00:00, 35.44it/s]\n",
            "100%|██████████| 3/3 [00:00<00:00, 35.73it/s]\n",
            "  0%|          | 0/3 [00:00<?, ?it/s]"
          ],
          "name": "stderr"
        },
        {
          "output_type": "stream",
          "text": [
            "{'ner': 2.9018367348373126e-07}\n",
            "{'ner': 0.00010916395553819299}\n",
            "{'ner': 1.9965264000667687e-05}\n"
          ],
          "name": "stdout"
        },
        {
          "output_type": "stream",
          "text": [
            "100%|██████████| 3/3 [00:00<00:00, 33.67it/s]\n",
            "100%|██████████| 3/3 [00:00<00:00, 35.45it/s]\n",
            "100%|██████████| 3/3 [00:00<00:00, 34.26it/s]\n",
            "  0%|          | 0/3 [00:00<?, ?it/s]"
          ],
          "name": "stderr"
        },
        {
          "output_type": "stream",
          "text": [
            "{'ner': 1.8725290268908607e-06}\n",
            "{'ner': 2.570537320218373e-09}\n",
            "{'ner': 9.966500500797535e-05}\n"
          ],
          "name": "stdout"
        },
        {
          "output_type": "stream",
          "text": [
            "100%|██████████| 3/3 [00:00<00:00, 35.03it/s]\n",
            "100%|██████████| 3/3 [00:00<00:00, 36.33it/s]\n",
            "100%|██████████| 3/3 [00:00<00:00, 37.94it/s]\n",
            "  0%|          | 0/3 [00:00<?, ?it/s]"
          ],
          "name": "stderr"
        },
        {
          "output_type": "stream",
          "text": [
            "{'ner': 2.716567355455616e-07}\n",
            "{'ner': 8.253754915913999e-10}\n",
            "{'ner': 6.755019236111631e-07}\n"
          ],
          "name": "stdout"
        },
        {
          "output_type": "stream",
          "text": [
            "100%|██████████| 3/3 [00:00<00:00, 35.51it/s]\n",
            "100%|██████████| 3/3 [00:00<00:00, 36.83it/s]\n",
            "100%|██████████| 3/3 [00:00<00:00, 36.67it/s]\n",
            "  0%|          | 0/3 [00:00<?, ?it/s]"
          ],
          "name": "stderr"
        },
        {
          "output_type": "stream",
          "text": [
            "{'ner': 1.3169963340873584e-07}\n",
            "{'ner': 3.4339492723877074e-07}\n",
            "{'ner': 5.995742131804738e-09}\n"
          ],
          "name": "stdout"
        },
        {
          "output_type": "stream",
          "text": [
            "100%|██████████| 3/3 [00:00<00:00, 33.58it/s]\n",
            "100%|██████████| 3/3 [00:00<00:00, 36.42it/s]\n",
            "100%|██████████| 3/3 [00:00<00:00, 36.13it/s]\n",
            "  0%|          | 0/3 [00:00<?, ?it/s]"
          ],
          "name": "stderr"
        },
        {
          "output_type": "stream",
          "text": [
            "{'ner': 1.6431998670401708e-10}\n",
            "{'ner': 4.3056865282157665e-07}\n",
            "{'ner': 1.1900354064030299e-06}\n"
          ],
          "name": "stdout"
        },
        {
          "output_type": "stream",
          "text": [
            "100%|██████████| 3/3 [00:00<00:00, 36.05it/s]\n",
            "100%|██████████| 3/3 [00:00<00:00, 34.73it/s]\n",
            "100%|██████████| 3/3 [00:00<00:00, 36.91it/s]\n",
            "  0%|          | 0/3 [00:00<?, ?it/s]"
          ],
          "name": "stderr"
        },
        {
          "output_type": "stream",
          "text": [
            "{'ner': 1.870560567713642e-08}\n",
            "{'ner': 3.483247410450605e-08}\n",
            "{'ner': 0.0001184918002238426}\n"
          ],
          "name": "stdout"
        },
        {
          "output_type": "stream",
          "text": [
            "100%|██████████| 3/3 [00:00<00:00, 36.66it/s]\n",
            "100%|██████████| 3/3 [00:00<00:00, 37.60it/s]\n",
            "100%|██████████| 3/3 [00:00<00:00, 34.26it/s]\n",
            "  0%|          | 0/3 [00:00<?, ?it/s]"
          ],
          "name": "stderr"
        },
        {
          "output_type": "stream",
          "text": [
            "{'ner': 5.91824114368283e-09}\n",
            "{'ner': 1.7046211408351543e-06}\n",
            "{'ner': 0.0007408987190375411}\n"
          ],
          "name": "stdout"
        },
        {
          "output_type": "stream",
          "text": [
            "100%|██████████| 3/3 [00:00<00:00, 35.10it/s]\n",
            "100%|██████████| 3/3 [00:00<00:00, 35.27it/s]\n",
            "100%|██████████| 3/3 [00:00<00:00, 36.31it/s]\n",
            "  0%|          | 0/3 [00:00<?, ?it/s]"
          ],
          "name": "stderr"
        },
        {
          "output_type": "stream",
          "text": [
            "{'ner': 1.1894515468878877e-10}\n",
            "{'ner': 1.0461581067088373e-05}\n",
            "{'ner': 3.003879101255458e-08}\n"
          ],
          "name": "stdout"
        },
        {
          "output_type": "stream",
          "text": [
            "100%|██████████| 3/3 [00:00<00:00, 35.70it/s]\n",
            "100%|██████████| 3/3 [00:00<00:00, 36.57it/s]\n",
            "100%|██████████| 3/3 [00:00<00:00, 36.26it/s]\n",
            "  0%|          | 0/3 [00:00<?, ?it/s]"
          ],
          "name": "stderr"
        },
        {
          "output_type": "stream",
          "text": [
            "{'ner': 4.0105240545408065e-07}\n",
            "{'ner': 7.851957419355631e-11}\n",
            "{'ner': 1.2310734608609853e-06}\n"
          ],
          "name": "stdout"
        },
        {
          "output_type": "stream",
          "text": [
            "100%|██████████| 3/3 [00:00<00:00, 37.39it/s]\n",
            "100%|██████████| 3/3 [00:00<00:00, 34.64it/s]\n",
            "100%|██████████| 3/3 [00:00<00:00, 37.03it/s]\n",
            "  0%|          | 0/3 [00:00<?, ?it/s]"
          ],
          "name": "stderr"
        },
        {
          "output_type": "stream",
          "text": [
            "{'ner': 1.4532352391370107e-09}\n",
            "{'ner': 4.623981416138481e-09}\n",
            "{'ner': 5.239299132389046e-07}\n"
          ],
          "name": "stdout"
        },
        {
          "output_type": "stream",
          "text": [
            "100%|██████████| 3/3 [00:00<00:00, 34.51it/s]\n",
            "100%|██████████| 3/3 [00:00<00:00, 37.27it/s]\n",
            "100%|██████████| 3/3 [00:00<00:00, 35.54it/s]\n",
            "  0%|          | 0/3 [00:00<?, ?it/s]"
          ],
          "name": "stderr"
        },
        {
          "output_type": "stream",
          "text": [
            "{'ner': 2.280408580093279e-08}\n",
            "{'ner': 1.4023520900560863e-08}\n",
            "{'ner': 7.336606967255153e-10}\n"
          ],
          "name": "stdout"
        },
        {
          "output_type": "stream",
          "text": [
            "100%|██████████| 3/3 [00:00<00:00, 35.96it/s]\n",
            "100%|██████████| 3/3 [00:00<00:00, 33.93it/s]\n",
            "100%|██████████| 3/3 [00:00<00:00, 34.53it/s]\n",
            "  0%|          | 0/3 [00:00<?, ?it/s]"
          ],
          "name": "stderr"
        },
        {
          "output_type": "stream",
          "text": [
            "{'ner': 0.0028724787187983662}\n",
            "{'ner': 9.818127472804709e-05}\n",
            "{'ner': 1.291662536959284e-09}\n"
          ],
          "name": "stdout"
        },
        {
          "output_type": "stream",
          "text": [
            "100%|██████████| 3/3 [00:00<00:00, 34.04it/s]\n",
            "100%|██████████| 3/3 [00:00<00:00, 36.77it/s]\n",
            "100%|██████████| 3/3 [00:00<00:00, 37.53it/s]\n",
            "  0%|          | 0/3 [00:00<?, ?it/s]"
          ],
          "name": "stderr"
        },
        {
          "output_type": "stream",
          "text": [
            "{'ner': 0.00023248122180163355}\n",
            "{'ner': 9.991508021499316e-12}\n",
            "{'ner': 1.0875775549535956e-07}\n"
          ],
          "name": "stdout"
        },
        {
          "output_type": "stream",
          "text": [
            "100%|██████████| 3/3 [00:00<00:00, 34.34it/s]\n",
            "100%|██████████| 3/3 [00:00<00:00, 35.47it/s]\n",
            "100%|██████████| 3/3 [00:00<00:00, 35.69it/s]\n",
            "  0%|          | 0/3 [00:00<?, ?it/s]"
          ],
          "name": "stderr"
        },
        {
          "output_type": "stream",
          "text": [
            "{'ner': 3.1062144418809344e-09}\n",
            "{'ner': 3.7987394057393594e-07}\n",
            "{'ner': 4.341617498126951e-10}\n"
          ],
          "name": "stdout"
        },
        {
          "output_type": "stream",
          "text": [
            "100%|██████████| 3/3 [00:00<00:00, 36.20it/s]\n",
            "100%|██████████| 3/3 [00:00<00:00, 34.36it/s]\n",
            "100%|██████████| 3/3 [00:00<00:00, 35.47it/s]\n",
            "  0%|          | 0/3 [00:00<?, ?it/s]"
          ],
          "name": "stderr"
        },
        {
          "output_type": "stream",
          "text": [
            "{'ner': 3.685676296656774e-09}\n",
            "{'ner': 4.2477060624348625e-11}\n",
            "{'ner': 1.555314982763765e-08}\n"
          ],
          "name": "stdout"
        },
        {
          "output_type": "stream",
          "text": [
            "100%|██████████| 3/3 [00:00<00:00, 34.41it/s]\n",
            "100%|██████████| 3/3 [00:00<00:00, 35.72it/s]\n",
            "100%|██████████| 3/3 [00:00<00:00, 36.44it/s]\n",
            "  0%|          | 0/3 [00:00<?, ?it/s]"
          ],
          "name": "stderr"
        },
        {
          "output_type": "stream",
          "text": [
            "{'ner': 3.714793410929864e-10}\n",
            "{'ner': 5.287610558482392e-07}\n",
            "{'ner': 2.332234153795826e-09}\n"
          ],
          "name": "stdout"
        },
        {
          "output_type": "stream",
          "text": [
            "100%|██████████| 3/3 [00:00<00:00, 34.61it/s]\n",
            "100%|██████████| 3/3 [00:00<00:00, 36.63it/s]\n",
            "100%|██████████| 3/3 [00:00<00:00, 37.00it/s]\n",
            "  0%|          | 0/3 [00:00<?, ?it/s]"
          ],
          "name": "stderr"
        },
        {
          "output_type": "stream",
          "text": [
            "{'ner': 1.5618143045412516e-05}\n",
            "{'ner': 8.752450626551187e-10}\n",
            "{'ner': 2.732600978673577e-07}\n"
          ],
          "name": "stdout"
        },
        {
          "output_type": "stream",
          "text": [
            "100%|██████████| 3/3 [00:00<00:00, 32.53it/s]\n",
            "100%|██████████| 3/3 [00:00<00:00, 36.72it/s]\n",
            "100%|██████████| 3/3 [00:00<00:00, 36.06it/s]\n",
            "  0%|          | 0/3 [00:00<?, ?it/s]"
          ],
          "name": "stderr"
        },
        {
          "output_type": "stream",
          "text": [
            "{'ner': 4.529118880064664e-10}\n",
            "{'ner': 2.0142931464943953e-10}\n",
            "{'ner': 6.936708089143395e-05}\n"
          ],
          "name": "stdout"
        },
        {
          "output_type": "stream",
          "text": [
            "\r100%|██████████| 3/3 [00:00<00:00, 34.53it/s]"
          ],
          "name": "stderr"
        },
        {
          "output_type": "stream",
          "text": [
            "{'ner': 7.402782809313387e-10}\n"
          ],
          "name": "stdout"
        },
        {
          "output_type": "stream",
          "text": [
            "\n"
          ],
          "name": "stderr"
        }
      ]
    },
    {
      "cell_type": "markdown",
      "metadata": {
        "id": "kA_mTtDHtAdv",
        "colab_type": "text"
      },
      "source": [
        "## Test the trained model"
      ]
    },
    {
      "cell_type": "code",
      "metadata": {
        "id": "XUvJahRPtAdx",
        "colab_type": "code",
        "colab": {
          "base_uri": "https://localhost:8080/",
          "height": 139
        },
        "outputId": "62cfab9d-4e96-4156-c1ad-182c391c64a8"
      },
      "source": [
        "for text, _ in TRAIN_DATA:\n",
        "    doc = nlp(text)\n",
        "    print('Entities', [(ent.text, ent.label_) for ent in doc.ents])\n",
        "    print('Tokens', [(t.text, t.ent_type_, t.ent_iob) for t in doc])"
      ],
      "execution_count": 16,
      "outputs": [
        {
          "output_type": "stream",
          "text": [
            "Entities [('London', 'LOC'), ('Berlin', 'LOC')]\n",
            "Tokens [('I', '', 2), ('like', '', 2), ('London', 'LOC', 3), ('and', '', 2), ('Berlin', 'LOC', 3), ('.', '', 2)]\n",
            "Entities []\n",
            "Tokens [('Who', '', 2), ('is', '', 2), ('Rajnikanth', '', 2), ('?', '', 2)]\n",
            "Entities []\n",
            "Tokens [('Who', '', 2), ('is', '', 2), ('Rakshmitha', '', 2), ('?', '', 2)]\n"
          ],
          "name": "stdout"
        }
      ]
    },
    {
      "cell_type": "markdown",
      "metadata": {
        "id": "a1YDlD6mtAd4",
        "colab_type": "text"
      },
      "source": [
        "## Save the model"
      ]
    },
    {
      "cell_type": "code",
      "metadata": {
        "id": "_cMwyu7ptAeB",
        "colab_type": "code",
        "colab": {
          "base_uri": "https://localhost:8080/",
          "height": 34
        },
        "outputId": "9468939b-910e-440a-8248-04ce765d1bfe"
      },
      "source": [
        "if output_dir is not None:\n",
        "    output_dir = Path(output_dir)\n",
        "    if not output_dir.exists():\n",
        "        output_dir.mkdir()\n",
        "    nlp.to_disk(output_dir)\n",
        "    print(\"Saved model to\", output_dir)        "
      ],
      "execution_count": 17,
      "outputs": [
        {
          "output_type": "stream",
          "text": [
            "Saved model to C:\\Users\\raksh\\Documents\\ner\n"
          ],
          "name": "stdout"
        }
      ]
    },
    {
      "cell_type": "markdown",
      "metadata": {
        "id": "W6ooKGy1tAeK",
        "colab_type": "text"
      },
      "source": [
        "## Test the saved model"
      ]
    },
    {
      "cell_type": "code",
      "metadata": {
        "id": "znCR4dCqtAeT",
        "colab_type": "code",
        "colab": {
          "base_uri": "https://localhost:8080/",
          "height": 156
        },
        "outputId": "334c3753-a00a-4d0a-8e0b-c6c9c2621642"
      },
      "source": [
        "print(\"Loading from\", output_dir)\n",
        "nlp2 = spacy.load(output_dir)\n",
        "for text, _ in TRAIN_DATA:\n",
        "    doc = nlp2(text)\n",
        "    print('Entities', [(ent.text, ent.label_) for ent in doc.ents])\n",
        "    print('Tokens', [(t.text, t.ent_type_, t.ent_iob) for t in doc])"
      ],
      "execution_count": 18,
      "outputs": [
        {
          "output_type": "stream",
          "text": [
            "Loading from C:\\Users\\raksh\\Documents\\ner\n",
            "Entities [('London', 'LOC'), ('Berlin', 'LOC')]\n",
            "Tokens [('I', '', 2), ('like', '', 2), ('London', 'LOC', 3), ('and', '', 2), ('Berlin', 'LOC', 3), ('.', '', 2)]\n",
            "Entities []\n",
            "Tokens [('Who', '', 2), ('is', '', 2), ('Rajnikanth', '', 2), ('?', '', 2)]\n",
            "Entities []\n",
            "Tokens [('Who', '', 2), ('is', '', 2), ('Rakshmitha', '', 2), ('?', '', 2)]\n"
          ],
          "name": "stdout"
        }
      ]
    },
    {
      "cell_type": "code",
      "metadata": {
        "id": "vJk6X-0otAej",
        "colab_type": "code",
        "colab": {}
      },
      "source": [
        ""
      ],
      "execution_count": null,
      "outputs": []
    }
  ]
}